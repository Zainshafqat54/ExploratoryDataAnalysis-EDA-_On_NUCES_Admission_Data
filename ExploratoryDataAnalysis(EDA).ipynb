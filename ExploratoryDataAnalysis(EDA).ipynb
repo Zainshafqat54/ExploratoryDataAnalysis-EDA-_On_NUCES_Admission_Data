{
 "cells": [
  {
   "cell_type": "code",
   "execution_count": 240,
   "id": "20ca8124",
   "metadata": {},
   "outputs": [],
   "source": [
    "import pandas as pd\n",
    "pd.set_option(\"display.max_columns\", None)\n",
    "import matplotlib.pyplot as plt\n",
    "%matplotlib inline\n",
    "import numpy as np"
   ]
  },
  {
   "cell_type": "code",
   "execution_count": 148,
   "id": "4a7ea3bc",
   "metadata": {},
   "outputs": [
    {
     "data": {
      "text/html": [
       "<div>\n",
       "<style scoped>\n",
       "    .dataframe tbody tr th:only-of-type {\n",
       "        vertical-align: middle;\n",
       "    }\n",
       "\n",
       "    .dataframe tbody tr th {\n",
       "        vertical-align: top;\n",
       "    }\n",
       "\n",
       "    .dataframe thead th {\n",
       "        text-align: right;\n",
       "    }\n",
       "</style>\n",
       "<table border=\"1\" class=\"dataframe\">\n",
       "  <thead>\n",
       "    <tr style=\"text-align: right;\">\n",
       "      <th></th>\n",
       "      <th>L</th>\n",
       "      <th>CITY</th>\n",
       "      <th>STATUS_ID</th>\n",
       "      <th>STATUS</th>\n",
       "      <th>Ist</th>\n",
       "      <th>2nd</th>\n",
       "      <th>3rd</th>\n",
       "      <th>4th</th>\n",
       "      <th>Ist.1</th>\n",
       "      <th>2nd.1</th>\n",
       "      <th>3rd.1</th>\n",
       "      <th>4th.1</th>\n",
       "      <th>Board</th>\n",
       "      <th>Degree</th>\n",
       "      <th>Total</th>\n",
       "      <th>Obtained</th>\n",
       "      <th>Board.1</th>\n",
       "      <th>Degree.1</th>\n",
       "      <th>Total.1</th>\n",
       "      <th>Obtained.1</th>\n",
       "      <th>NTS_MARKS</th>\n",
       "      <th>NU_TEST_CENTER</th>\n",
       "      <th>BBA</th>\n",
       "      <th>BS</th>\n",
       "      <th>Total.2</th>\n",
       "      <th>Obtained.2</th>\n",
       "      <th>Total.3</th>\n",
       "      <th>Obtained.3</th>\n",
       "      <th>NTS Merit Marks</th>\n",
       "      <th>BBA/BS(AF)</th>\n",
       "      <th>BS.1</th>\n",
       "      <th>Campus</th>\n",
       "      <th>Discipline</th>\n",
       "      <th>Campus.1</th>\n",
       "      <th>Discipline.1</th>\n",
       "      <th>Campus.2</th>\n",
       "      <th>Discipline.2</th>\n",
       "      <th>DEGREE_STATUS</th>\n",
       "    </tr>\n",
       "  </thead>\n",
       "  <tbody>\n",
       "    <tr>\n",
       "      <th>0</th>\n",
       "      <td>1900003</td>\n",
       "      <td>Rawalpindi</td>\n",
       "      <td>7</td>\n",
       "      <td>Challan Printed</td>\n",
       "      <td>ISB</td>\n",
       "      <td>NaN</td>\n",
       "      <td>NaN</td>\n",
       "      <td>NaN</td>\n",
       "      <td>BS(AF)</td>\n",
       "      <td>NaN</td>\n",
       "      <td>NaN</td>\n",
       "      <td>NaN</td>\n",
       "      <td>Cambridge</td>\n",
       "      <td>O-Level</td>\n",
       "      <td>1000.0</td>\n",
       "      <td>900.0</td>\n",
       "      <td>Federal</td>\n",
       "      <td>HSSC (I+II)</td>\n",
       "      <td>1050.0</td>\n",
       "      <td>900.0</td>\n",
       "      <td>NaN</td>\n",
       "      <td>NaN</td>\n",
       "      <td>NaN</td>\n",
       "      <td>NaN</td>\n",
       "      <td>NaN</td>\n",
       "      <td>NaN</td>\n",
       "      <td>NaN</td>\n",
       "      <td>NaN</td>\n",
       "      <td>NaN</td>\n",
       "      <td>NaN</td>\n",
       "      <td>NaN</td>\n",
       "      <td>NaN</td>\n",
       "      <td>NaN</td>\n",
       "      <td>NaN</td>\n",
       "      <td>NaN</td>\n",
       "      <td>NaN</td>\n",
       "      <td>NaN</td>\n",
       "      <td>NaN</td>\n",
       "    </tr>\n",
       "    <tr>\n",
       "      <th>1</th>\n",
       "      <td>1900005</td>\n",
       "      <td>Okara</td>\n",
       "      <td>2</td>\n",
       "      <td>AcademicInfo</td>\n",
       "      <td>NaN</td>\n",
       "      <td>NaN</td>\n",
       "      <td>NaN</td>\n",
       "      <td>NaN</td>\n",
       "      <td>NaN</td>\n",
       "      <td>NaN</td>\n",
       "      <td>NaN</td>\n",
       "      <td>NaN</td>\n",
       "      <td>Sahiwal</td>\n",
       "      <td>SSC</td>\n",
       "      <td>1100.0</td>\n",
       "      <td>1061.0</td>\n",
       "      <td>Sahiwal</td>\n",
       "      <td>HSSC-I</td>\n",
       "      <td>520.0</td>\n",
       "      <td>1061.0</td>\n",
       "      <td>NaN</td>\n",
       "      <td>NaN</td>\n",
       "      <td>NaN</td>\n",
       "      <td>NaN</td>\n",
       "      <td>NaN</td>\n",
       "      <td>NaN</td>\n",
       "      <td>NaN</td>\n",
       "      <td>NaN</td>\n",
       "      <td>NaN</td>\n",
       "      <td>NaN</td>\n",
       "      <td>NaN</td>\n",
       "      <td>NaN</td>\n",
       "      <td>NaN</td>\n",
       "      <td>NaN</td>\n",
       "      <td>NaN</td>\n",
       "      <td>NaN</td>\n",
       "      <td>NaN</td>\n",
       "      <td>NaN</td>\n",
       "    </tr>\n",
       "    <tr>\n",
       "      <th>2</th>\n",
       "      <td>1900006</td>\n",
       "      <td>Lahore</td>\n",
       "      <td>1</td>\n",
       "      <td>PersonalInfo</td>\n",
       "      <td>NaN</td>\n",
       "      <td>NaN</td>\n",
       "      <td>NaN</td>\n",
       "      <td>NaN</td>\n",
       "      <td>NaN</td>\n",
       "      <td>NaN</td>\n",
       "      <td>NaN</td>\n",
       "      <td>NaN</td>\n",
       "      <td>NaN</td>\n",
       "      <td>NaN</td>\n",
       "      <td>NaN</td>\n",
       "      <td>NaN</td>\n",
       "      <td>NaN</td>\n",
       "      <td>NaN</td>\n",
       "      <td>NaN</td>\n",
       "      <td>NaN</td>\n",
       "      <td>NaN</td>\n",
       "      <td>NaN</td>\n",
       "      <td>NaN</td>\n",
       "      <td>NaN</td>\n",
       "      <td>NaN</td>\n",
       "      <td>NaN</td>\n",
       "      <td>NaN</td>\n",
       "      <td>NaN</td>\n",
       "      <td>NaN</td>\n",
       "      <td>NaN</td>\n",
       "      <td>NaN</td>\n",
       "      <td>NaN</td>\n",
       "      <td>NaN</td>\n",
       "      <td>NaN</td>\n",
       "      <td>NaN</td>\n",
       "      <td>NaN</td>\n",
       "      <td>NaN</td>\n",
       "      <td>NaN</td>\n",
       "    </tr>\n",
       "    <tr>\n",
       "      <th>3</th>\n",
       "      <td>1900007</td>\n",
       "      <td>Peshawar</td>\n",
       "      <td>10</td>\n",
       "      <td>Admit Card Printed</td>\n",
       "      <td>PWR</td>\n",
       "      <td>NaN</td>\n",
       "      <td>NaN</td>\n",
       "      <td>NaN</td>\n",
       "      <td>BS(EE)</td>\n",
       "      <td>BS(CS)</td>\n",
       "      <td>NaN</td>\n",
       "      <td>NaN</td>\n",
       "      <td>Federal</td>\n",
       "      <td>SSC</td>\n",
       "      <td>1050.0</td>\n",
       "      <td>802.0</td>\n",
       "      <td>Federal</td>\n",
       "      <td>HSSC (I+II)</td>\n",
       "      <td>1100.0</td>\n",
       "      <td>802.0</td>\n",
       "      <td>NaN</td>\n",
       "      <td>ISB</td>\n",
       "      <td>NaN</td>\n",
       "      <td>30.291665</td>\n",
       "      <td>NaN</td>\n",
       "      <td>NaN</td>\n",
       "      <td>NaN</td>\n",
       "      <td>NaN</td>\n",
       "      <td>NaN</td>\n",
       "      <td>NaN</td>\n",
       "      <td>51.87</td>\n",
       "      <td>NaN</td>\n",
       "      <td>NaN</td>\n",
       "      <td>PWR</td>\n",
       "      <td>BS(EE)</td>\n",
       "      <td>NaN</td>\n",
       "      <td>NaN</td>\n",
       "      <td>NaN</td>\n",
       "    </tr>\n",
       "    <tr>\n",
       "      <th>4</th>\n",
       "      <td>1900008</td>\n",
       "      <td>Islamabad</td>\n",
       "      <td>10</td>\n",
       "      <td>Admit Card Printed</td>\n",
       "      <td>ISB</td>\n",
       "      <td>NaN</td>\n",
       "      <td>NaN</td>\n",
       "      <td>NaN</td>\n",
       "      <td>BS(CS)</td>\n",
       "      <td>NaN</td>\n",
       "      <td>NaN</td>\n",
       "      <td>NaN</td>\n",
       "      <td>Federal</td>\n",
       "      <td>SSC</td>\n",
       "      <td>1050.0</td>\n",
       "      <td>728.0</td>\n",
       "      <td>Federal</td>\n",
       "      <td>HSSC (I+II)</td>\n",
       "      <td>1100.0</td>\n",
       "      <td>728.0</td>\n",
       "      <td>78.0</td>\n",
       "      <td>ISB</td>\n",
       "      <td>NaN</td>\n",
       "      <td>47.187499</td>\n",
       "      <td>NaN</td>\n",
       "      <td>NaN</td>\n",
       "      <td>NaN</td>\n",
       "      <td>NaN</td>\n",
       "      <td>66.91</td>\n",
       "      <td>NaN</td>\n",
       "      <td>51.50</td>\n",
       "      <td>NaN</td>\n",
       "      <td>NaN</td>\n",
       "      <td>NaN</td>\n",
       "      <td>NaN</td>\n",
       "      <td>NaN</td>\n",
       "      <td>NaN</td>\n",
       "      <td>NaN</td>\n",
       "    </tr>\n",
       "  </tbody>\n",
       "</table>\n",
       "</div>"
      ],
      "text/plain": [
       "         L        CITY  STATUS_ID              STATUS  Ist  2nd  3rd  4th  \\\n",
       "0  1900003  Rawalpindi          7     Challan Printed  ISB  NaN  NaN  NaN   \n",
       "1  1900005       Okara          2        AcademicInfo  NaN  NaN  NaN  NaN   \n",
       "2  1900006      Lahore          1        PersonalInfo  NaN  NaN  NaN  NaN   \n",
       "3  1900007    Peshawar         10  Admit Card Printed  PWR  NaN  NaN  NaN   \n",
       "4  1900008   Islamabad         10  Admit Card Printed  ISB  NaN  NaN  NaN   \n",
       "\n",
       "    Ist.1   2nd.1 3rd.1 4th.1      Board   Degree   Total  Obtained  Board.1  \\\n",
       "0  BS(AF)     NaN   NaN   NaN  Cambridge  O-Level  1000.0     900.0  Federal   \n",
       "1     NaN     NaN   NaN   NaN    Sahiwal      SSC  1100.0    1061.0  Sahiwal   \n",
       "2     NaN     NaN   NaN   NaN        NaN      NaN     NaN       NaN      NaN   \n",
       "3  BS(EE)  BS(CS)   NaN   NaN    Federal      SSC  1050.0     802.0  Federal   \n",
       "4  BS(CS)     NaN   NaN   NaN    Federal      SSC  1050.0     728.0  Federal   \n",
       "\n",
       "      Degree.1  Total.1  Obtained.1  NTS_MARKS NU_TEST_CENTER  BBA         BS  \\\n",
       "0  HSSC (I+II)   1050.0       900.0        NaN            NaN  NaN        NaN   \n",
       "1       HSSC-I    520.0      1061.0        NaN            NaN  NaN        NaN   \n",
       "2          NaN      NaN         NaN        NaN            NaN  NaN        NaN   \n",
       "3  HSSC (I+II)   1100.0       802.0        NaN            ISB  NaN  30.291665   \n",
       "4  HSSC (I+II)   1100.0       728.0       78.0            ISB  NaN  47.187499   \n",
       "\n",
       "   Total.2  Obtained.2  Total.3  Obtained.3  NTS Merit Marks  BBA/BS(AF)  \\\n",
       "0      NaN         NaN      NaN         NaN              NaN         NaN   \n",
       "1      NaN         NaN      NaN         NaN              NaN         NaN   \n",
       "2      NaN         NaN      NaN         NaN              NaN         NaN   \n",
       "3      NaN         NaN      NaN         NaN              NaN         NaN   \n",
       "4      NaN         NaN      NaN         NaN            66.91         NaN   \n",
       "\n",
       "    BS.1 Campus Discipline Campus.1 Discipline.1 Campus.2 Discipline.2  \\\n",
       "0    NaN    NaN        NaN      NaN          NaN      NaN          NaN   \n",
       "1    NaN    NaN        NaN      NaN          NaN      NaN          NaN   \n",
       "2    NaN    NaN        NaN      NaN          NaN      NaN          NaN   \n",
       "3  51.87    NaN        NaN      PWR       BS(EE)      NaN          NaN   \n",
       "4  51.50    NaN        NaN      NaN          NaN      NaN          NaN   \n",
       "\n",
       "  DEGREE_STATUS  \n",
       "0           NaN  \n",
       "1           NaN  \n",
       "2           NaN  \n",
       "3           NaN  \n",
       "4           NaN  "
      ]
     },
     "execution_count": 148,
     "metadata": {},
     "output_type": "execute_result"
    }
   ],
   "source": [
    "'''Loading xlsx file and droping first row '''\n",
    "df = pd.read_excel(r\"Admission 2019 Data for ISB Campus.xlsx\", header=[1])\n",
    "df.head()"
   ]
  },
  {
   "cell_type": "code",
   "execution_count": 149,
   "id": "7cfb85d6",
   "metadata": {},
   "outputs": [],
   "source": [
    "'''rename the column names '''\n",
    "df.rename(columns = {'Ist.1': 'Discpline_Pref_1st', '2nd.1': 'Discpline_Pref_2nd','3rd.1': 'Discpline_Pref_3rd','4th.1': 'Discpline_Pref_4th'}, inplace = True)\n",
    "df.rename(columns = {'Ist': 'Campus_Pref_1st', '2nd': 'Campus_Pref_2nd','3rd': 'Campus_Pref_3rd','4th': 'Campus_Pref_4th'}, inplace = True)\n",
    "df.rename(columns = {'Board': 'Matriculation_Board', 'Degree': 'Matriculation_Degree','Total': 'Matriculation_Total','Obtained': 'Matriculation_Obtained'}, inplace = True)\n",
    "df.rename(columns = {'BBA': 'NU_Test_Marks_BBA', 'BS': 'NU_Test_Marks_BS','Total.2': 'SAT_I_Total','Obtained.2': 'SAT_I_Obtained','Total.3': 'SAT_II_Total','Obtained.3': 'SAT_II_Obtained'}, inplace = True)\n",
    "df.rename(columns = {'Board.1': 'Intermediate_Board', 'Degree.1': 'Intermediate_Degree','Total.1': 'Intermediate_Total','Obtained.1': 'Intermediate_Obtained'}, inplace = True)\n",
    "df.rename(columns = {'Campus': 'NTS_Admission_Offer_Campus', 'Discipline': 'NTS_Admission_Offer_Discipline','Campus.1': 'NU_Admission_Offer_Campus','Discipline.1': 'NU_Admission_Offer_Discipline'}, inplace = True)\n",
    "df.rename(columns = {'Campus.2': 'Admission_Campus', 'Discipline.2': 'Admission_Discipline'}, inplace = True)\n",
    "df.rename(columns = {'BBA/BS(AF)': 'NU_Merit_Marks_BBA/BS(AF)', 'BS.1': 'NU_Merit_Marks_BS'}, inplace = True)"
   ]
  },
  {
   "cell_type": "code",
   "execution_count": 150,
   "id": "9f4e9e6b",
   "metadata": {},
   "outputs": [],
   "source": [
    "'''Filter only those rows whose admission is done or removing all values having NAn in Admission_Campus or Admission_Discipline columns '''\n",
    "df.dropna(subset=['Admission_Campus','Admission_Discipline'], how='any',inplace=True)"
   ]
  },
  {
   "cell_type": "code",
   "execution_count": 151,
   "id": "44181ff6",
   "metadata": {},
   "outputs": [],
   "source": [
    "'''droping rows of duplicate id'''\n",
    "df = df.drop_duplicates('L', keep='last')"
   ]
  },
  {
   "cell_type": "code",
   "execution_count": 152,
   "id": "b9879879",
   "metadata": {},
   "outputs": [],
   "source": [
    "'''droping irrelevant dataset'''\n",
    "df=df.drop(['CITY', 'STATUS_ID','STATUS','NU_TEST_CENTER','NU_Admission_Offer_Campus','NTS_Admission_Offer_Campus','SAT_I_Total','SAT_I_Obtained','SAT_II_Total','SAT_II_Obtained','Campus_Pref_4th','Discpline_Pref_4th'], axis=1)"
   ]
  },
  {
   "cell_type": "code",
   "execution_count": 153,
   "id": "cc7c9ac1",
   "metadata": {},
   "outputs": [],
   "source": [
    "'''droping rows of Nan values in matric or in intermediate means all the rows with any Nan value of intermediate.\n",
    "if value is Nan then how h got admission so drop it'''\n",
    "df.dropna(subset=['Matriculation_Board','Matriculation_Degree','Matriculation_Total','Matriculation_Obtained','Intermediate_Board','Intermediate_Degree','Intermediate_Total','Intermediate_Obtained'], how='any',inplace=True)"
   ]
  },
  {
   "cell_type": "code",
   "execution_count": 154,
   "id": "ab19f1a7",
   "metadata": {},
   "outputs": [],
   "source": [
    "'''droping rows of students who  neither gave the entry test of NU or niether NTS test ,so these feilds are also garbagge'''\n",
    "df.dropna(subset=['NU_Merit_Marks_BBA/BS(AF)','NU_Merit_Marks_BS'], how='all',inplace=True)"
   ]
  },
  {
   "cell_type": "code",
   "execution_count": 155,
   "id": "8059ee4e",
   "metadata": {},
   "outputs": [],
   "source": [
    "'''drop those students who didnt get offer by NU neither NTS'''\n",
    "df.dropna(subset=['NTS_Admission_Offer_Discipline','NU_Admission_Offer_Discipline'], how='all',inplace=True)"
   ]
  },
  {
   "cell_type": "code",
   "execution_count": 156,
   "id": "44250d29",
   "metadata": {},
   "outputs": [
    {
     "data": {
      "text/plain": [
       "(2170, 26)"
      ]
     },
     "execution_count": 156,
     "metadata": {},
     "output_type": "execute_result"
    }
   ],
   "source": [
    "df.shape"
   ]
  },
  {
   "cell_type": "code",
   "execution_count": 157,
   "id": "35a3abed",
   "metadata": {},
   "outputs": [
    {
     "data": {
      "text/html": [
       "<div>\n",
       "<style scoped>\n",
       "    .dataframe tbody tr th:only-of-type {\n",
       "        vertical-align: middle;\n",
       "    }\n",
       "\n",
       "    .dataframe tbody tr th {\n",
       "        vertical-align: top;\n",
       "    }\n",
       "\n",
       "    .dataframe thead th {\n",
       "        text-align: right;\n",
       "    }\n",
       "</style>\n",
       "<table border=\"1\" class=\"dataframe\">\n",
       "  <thead>\n",
       "    <tr style=\"text-align: right;\">\n",
       "      <th></th>\n",
       "      <th>L</th>\n",
       "      <th>Campus_Pref_1st</th>\n",
       "      <th>Campus_Pref_2nd</th>\n",
       "      <th>Campus_Pref_3rd</th>\n",
       "      <th>Discpline_Pref_1st</th>\n",
       "      <th>Discpline_Pref_2nd</th>\n",
       "      <th>Discpline_Pref_3rd</th>\n",
       "      <th>Matriculation_Board</th>\n",
       "      <th>Matriculation_Degree</th>\n",
       "      <th>Matriculation_Total</th>\n",
       "      <th>Matriculation_Obtained</th>\n",
       "      <th>Intermediate_Board</th>\n",
       "      <th>Intermediate_Degree</th>\n",
       "      <th>Intermediate_Total</th>\n",
       "      <th>Intermediate_Obtained</th>\n",
       "      <th>NTS_MARKS</th>\n",
       "      <th>NU_Test_Marks_BBA</th>\n",
       "      <th>NU_Test_Marks_BS</th>\n",
       "      <th>NTS Merit Marks</th>\n",
       "      <th>NU_Merit_Marks_BBA/BS(AF)</th>\n",
       "      <th>NU_Merit_Marks_BS</th>\n",
       "      <th>NTS_Admission_Offer_Discipline</th>\n",
       "      <th>NU_Admission_Offer_Discipline</th>\n",
       "      <th>Admission_Campus</th>\n",
       "      <th>Admission_Discipline</th>\n",
       "      <th>DEGREE_STATUS</th>\n",
       "    </tr>\n",
       "  </thead>\n",
       "  <tbody>\n",
       "    <tr>\n",
       "      <th>19</th>\n",
       "      <td>1900027</td>\n",
       "      <td>KHI</td>\n",
       "      <td>NaN</td>\n",
       "      <td>NaN</td>\n",
       "      <td>BS(CS)</td>\n",
       "      <td>NaN</td>\n",
       "      <td>NaN</td>\n",
       "      <td>Karachi</td>\n",
       "      <td>SSC</td>\n",
       "      <td>850.0</td>\n",
       "      <td>680.0</td>\n",
       "      <td>Karachi</td>\n",
       "      <td>HSSC-I</td>\n",
       "      <td>550.0</td>\n",
       "      <td>680.0</td>\n",
       "      <td>NaN</td>\n",
       "      <td>NaN</td>\n",
       "      <td>52.354163</td>\n",
       "      <td>NaN</td>\n",
       "      <td>NaN</td>\n",
       "      <td>60.81</td>\n",
       "      <td>NaN</td>\n",
       "      <td>BS(CS)</td>\n",
       "      <td>KHI</td>\n",
       "      <td>BS(CS)</td>\n",
       "      <td>Current</td>\n",
       "    </tr>\n",
       "    <tr>\n",
       "      <th>28</th>\n",
       "      <td>1900036</td>\n",
       "      <td>KHI</td>\n",
       "      <td>NaN</td>\n",
       "      <td>NaN</td>\n",
       "      <td>BS(CS)</td>\n",
       "      <td>BS(SE)</td>\n",
       "      <td>NaN</td>\n",
       "      <td>Agha Khan</td>\n",
       "      <td>SSC</td>\n",
       "      <td>1100.0</td>\n",
       "      <td>927.0</td>\n",
       "      <td>Agha Khan</td>\n",
       "      <td>HSSC-I</td>\n",
       "      <td>500.0</td>\n",
       "      <td>927.0</td>\n",
       "      <td>NaN</td>\n",
       "      <td>NaN</td>\n",
       "      <td>46.708330</td>\n",
       "      <td>NaN</td>\n",
       "      <td>NaN</td>\n",
       "      <td>61.35</td>\n",
       "      <td>NaN</td>\n",
       "      <td>BS(CS)</td>\n",
       "      <td>KHI</td>\n",
       "      <td>BS(CS)</td>\n",
       "      <td>Current</td>\n",
       "    </tr>\n",
       "    <tr>\n",
       "      <th>46</th>\n",
       "      <td>1900059</td>\n",
       "      <td>KHI</td>\n",
       "      <td>NaN</td>\n",
       "      <td>NaN</td>\n",
       "      <td>BS(CS)</td>\n",
       "      <td>BS(SE)</td>\n",
       "      <td>BS(EE)</td>\n",
       "      <td>Mirpur Khas</td>\n",
       "      <td>SSC</td>\n",
       "      <td>850.0</td>\n",
       "      <td>693.0</td>\n",
       "      <td>Mirpur Khas</td>\n",
       "      <td>HSSC-I</td>\n",
       "      <td>550.0</td>\n",
       "      <td>693.0</td>\n",
       "      <td>77.0</td>\n",
       "      <td>NaN</td>\n",
       "      <td>67.180553</td>\n",
       "      <td>80.68</td>\n",
       "      <td>NaN</td>\n",
       "      <td>75.77</td>\n",
       "      <td>BS(CS)</td>\n",
       "      <td>NaN</td>\n",
       "      <td>ISB</td>\n",
       "      <td>BS(CS)</td>\n",
       "      <td>Current</td>\n",
       "    </tr>\n",
       "    <tr>\n",
       "      <th>53</th>\n",
       "      <td>1900069</td>\n",
       "      <td>LHR</td>\n",
       "      <td>NaN</td>\n",
       "      <td>NaN</td>\n",
       "      <td>BS(CS)</td>\n",
       "      <td>BS(EE)</td>\n",
       "      <td>BS(CV)</td>\n",
       "      <td>Lahore</td>\n",
       "      <td>SSC</td>\n",
       "      <td>1100.0</td>\n",
       "      <td>930.0</td>\n",
       "      <td>Lahore</td>\n",
       "      <td>HSSC-I</td>\n",
       "      <td>520.0</td>\n",
       "      <td>930.0</td>\n",
       "      <td>NaN</td>\n",
       "      <td>NaN</td>\n",
       "      <td>50.319441</td>\n",
       "      <td>NaN</td>\n",
       "      <td>NaN</td>\n",
       "      <td>61.22</td>\n",
       "      <td>NaN</td>\n",
       "      <td>BS(EE)</td>\n",
       "      <td>LHR</td>\n",
       "      <td>BS(EE)</td>\n",
       "      <td>Current</td>\n",
       "    </tr>\n",
       "    <tr>\n",
       "      <th>56</th>\n",
       "      <td>1900072</td>\n",
       "      <td>LHR</td>\n",
       "      <td>NaN</td>\n",
       "      <td>NaN</td>\n",
       "      <td>BS(CS)</td>\n",
       "      <td>NaN</td>\n",
       "      <td>NaN</td>\n",
       "      <td>Sahiwal</td>\n",
       "      <td>SSC</td>\n",
       "      <td>1100.0</td>\n",
       "      <td>1026.0</td>\n",
       "      <td>Sahiwal</td>\n",
       "      <td>HSSC-I</td>\n",
       "      <td>520.0</td>\n",
       "      <td>1026.0</td>\n",
       "      <td>NaN</td>\n",
       "      <td>NaN</td>\n",
       "      <td>55.874996</td>\n",
       "      <td>NaN</td>\n",
       "      <td>NaN</td>\n",
       "      <td>68.23</td>\n",
       "      <td>NaN</td>\n",
       "      <td>BS(CS)</td>\n",
       "      <td>LHR</td>\n",
       "      <td>BS(CS)</td>\n",
       "      <td>Current</td>\n",
       "    </tr>\n",
       "  </tbody>\n",
       "</table>\n",
       "</div>"
      ],
      "text/plain": [
       "          L Campus_Pref_1st Campus_Pref_2nd Campus_Pref_3rd  \\\n",
       "19  1900027             KHI             NaN             NaN   \n",
       "28  1900036             KHI             NaN             NaN   \n",
       "46  1900059             KHI             NaN             NaN   \n",
       "53  1900069             LHR             NaN             NaN   \n",
       "56  1900072             LHR             NaN             NaN   \n",
       "\n",
       "   Discpline_Pref_1st Discpline_Pref_2nd Discpline_Pref_3rd  \\\n",
       "19             BS(CS)                NaN                NaN   \n",
       "28             BS(CS)             BS(SE)                NaN   \n",
       "46             BS(CS)             BS(SE)             BS(EE)   \n",
       "53             BS(CS)             BS(EE)             BS(CV)   \n",
       "56             BS(CS)                NaN                NaN   \n",
       "\n",
       "   Matriculation_Board Matriculation_Degree  Matriculation_Total  \\\n",
       "19             Karachi                  SSC                850.0   \n",
       "28           Agha Khan                  SSC               1100.0   \n",
       "46         Mirpur Khas                  SSC                850.0   \n",
       "53              Lahore                  SSC               1100.0   \n",
       "56             Sahiwal                  SSC               1100.0   \n",
       "\n",
       "    Matriculation_Obtained Intermediate_Board Intermediate_Degree  \\\n",
       "19                   680.0            Karachi              HSSC-I   \n",
       "28                   927.0          Agha Khan              HSSC-I   \n",
       "46                   693.0        Mirpur Khas              HSSC-I   \n",
       "53                   930.0             Lahore              HSSC-I   \n",
       "56                  1026.0            Sahiwal              HSSC-I   \n",
       "\n",
       "    Intermediate_Total  Intermediate_Obtained  NTS_MARKS  NU_Test_Marks_BBA  \\\n",
       "19               550.0                  680.0        NaN                NaN   \n",
       "28               500.0                  927.0        NaN                NaN   \n",
       "46               550.0                  693.0       77.0                NaN   \n",
       "53               520.0                  930.0        NaN                NaN   \n",
       "56               520.0                 1026.0        NaN                NaN   \n",
       "\n",
       "    NU_Test_Marks_BS  NTS Merit Marks  NU_Merit_Marks_BBA/BS(AF)  \\\n",
       "19         52.354163              NaN                        NaN   \n",
       "28         46.708330              NaN                        NaN   \n",
       "46         67.180553            80.68                        NaN   \n",
       "53         50.319441              NaN                        NaN   \n",
       "56         55.874996              NaN                        NaN   \n",
       "\n",
       "    NU_Merit_Marks_BS NTS_Admission_Offer_Discipline  \\\n",
       "19              60.81                            NaN   \n",
       "28              61.35                            NaN   \n",
       "46              75.77                         BS(CS)   \n",
       "53              61.22                            NaN   \n",
       "56              68.23                            NaN   \n",
       "\n",
       "   NU_Admission_Offer_Discipline Admission_Campus Admission_Discipline  \\\n",
       "19                        BS(CS)              KHI           BS(CS)       \n",
       "28                        BS(CS)              KHI           BS(CS)       \n",
       "46                           NaN              ISB           BS(CS)       \n",
       "53                        BS(EE)              LHR           BS(EE)       \n",
       "56                        BS(CS)              LHR           BS(CS)       \n",
       "\n",
       "   DEGREE_STATUS  \n",
       "19       Current  \n",
       "28       Current  \n",
       "46       Current  \n",
       "53       Current  \n",
       "56       Current  "
      ]
     },
     "execution_count": 157,
     "metadata": {},
     "output_type": "execute_result"
    }
   ],
   "source": [
    "df.head()"
   ]
  },
  {
   "cell_type": "markdown",
   "id": "8103dcdb",
   "metadata": {},
   "source": [
    "# Question 1"
   ]
  },
  {
   "cell_type": "markdown",
   "id": "efe4c8de",
   "metadata": {},
   "source": [
    "calculting percentae using matric obtained marks and matric total marks and create a new column named as matric result and count the percentages between each intrvals and plot them"
   ]
  },
  {
   "cell_type": "code",
   "execution_count": 166,
   "id": "ea702924",
   "metadata": {},
   "outputs": [],
   "source": [
    "df['Matric_Result'] = (df['Matriculation_Obtained']/df['Matriculation_Total'])*100\n",
    "Count=0\n",
    "for i in df['Matric_Result']:\n",
    "      if i>75:\n",
    "        Count+=1\n",
    "AdmissionOffer=[]\n",
    "AdmissionOffer.append(len(df[df['Matric_Result']>90.0]))\n",
    "AdmissionOffer.append(len(df[(df['Matric_Result']>80.0)&(df['Matric_Result']<=90.0)]))\n",
    "AdmissionOffer.append(len(df[(df['Matric_Result']>70.0)&(df['Matric_Result']<=80.0)]))\n",
    "AdmissionOffer.append(len(df[(df['Matric_Result']>60.0)&(df['Matric_Result']<=70.0)]))\n",
    "AdmissionOfferPercCatType=[\"Above-90%\",\"Above-80%\",\"Above-70%\",\"Above-60%\"]"
   ]
  },
  {
   "cell_type": "code",
   "execution_count": 167,
   "id": "17d99368",
   "metadata": {},
   "outputs": [
    {
     "data": {
      "text/plain": [
       "Text(0.5, 1.0, 'No of Students')"
      ]
     },
     "execution_count": 167,
     "metadata": {},
     "output_type": "execute_result"
    },
    {
     "data": {
      "image/png": "[encoded data removed]",
      "text/plain": [
       "<Figure size 720x360 with 1 Axes>"
      ]
     },
     "metadata": {
      "needs_background": "light"
     },
     "output_type": "display_data"
    }
   ],
   "source": [
    "plt.figure(figsize=(10,5))\n",
    "plt.ylim([0, len(df['Matric_Result'])])\n",
    "plt.bar(AdmissionOfferPercCatType,AdmissionOffer)\n",
    "plt.ylabel(\"Number of Students Who Got Admission Offer\")\n",
    "plt.xlabel(\"Percentage of students matric marks\")\n",
    "plt.title(\"No of Students\")"
   ]
  },
  {
   "cell_type": "markdown",
   "id": "51f60890",
   "metadata": {},
   "source": [
    "# Question-2"
   ]
  },
  {
   "cell_type": "code",
   "execution_count": 235,
   "id": "fbdc5285",
   "metadata": {},
   "outputs": [],
   "source": [
    "Q7DF=df[['Intermediate_Total','Intermediate_Obtained']].copy()"
   ]
  },
  {
   "cell_type": "code",
   "execution_count": 236,
   "id": "a791ebf2",
   "metadata": {},
   "outputs": [],
   "source": [
    "mt=Q7DF['Intermediate_Total'].tolist()\n",
    "mo=Q7DF['Intermediate_Obtained'].tolist()"
   ]
  },
  {
   "cell_type": "code",
   "execution_count": 237,
   "id": "fcd1b4f3",
   "metadata": {},
   "outputs": [
    {
     "name": "stdout",
     "output_type": "stream",
     "text": [
      "yes\n",
      "yes\n",
      "yes\n",
      "yes\n",
      "yes\n",
      "yes\n",
      "yes\n",
      "yes\n",
      "yes\n",
      "yes\n",
      "yes\n",
      "yes\n",
      "yes\n",
      "yes\n",
      "yes\n",
      "yes\n",
      "yes\n",
      "yes\n",
      "yes\n",
      "yes\n",
      "yes\n",
      "yes\n",
      "yes\n",
      "yes\n",
      "yes\n",
      "yes\n",
      "yes\n",
      "yes\n",
      "yes\n",
      "yes\n",
      "yes\n",
      "yes\n",
      "yes\n",
      "yes\n",
      "yes\n",
      "yes\n",
      "yes\n",
      "yes\n",
      "yes\n",
      "yes\n",
      "yes\n",
      "yes\n",
      "yes\n",
      "yes\n",
      "yes\n",
      "yes\n",
      "yes\n",
      "yes\n",
      "yes\n",
      "yes\n",
      "yes\n",
      "yes\n",
      "yes\n",
      "yes\n",
      "yes\n",
      "yes\n",
      "yes\n",
      "yes\n",
      "yes\n",
      "yes\n",
      "yes\n",
      "yes\n",
      "yes\n",
      "yes\n",
      "yes\n",
      "yes\n",
      "yes\n",
      "yes\n",
      "yes\n",
      "yes\n",
      "yes\n",
      "yes\n",
      "yes\n",
      "yes\n",
      "yes\n",
      "yes\n",
      "yes\n",
      "yes\n",
      "yes\n",
      "yes\n",
      "yes\n",
      "yes\n",
      "yes\n",
      "yes\n",
      "yes\n",
      "yes\n",
      "yes\n",
      "yes\n",
      "yes\n",
      "yes\n",
      "yes\n",
      "yes\n",
      "yes\n",
      "yes\n",
      "yes\n",
      "yes\n",
      "yes\n",
      "yes\n",
      "yes\n",
      "yes\n",
      "yes\n",
      "yes\n",
      "yes\n",
      "yes\n",
      "yes\n",
      "yes\n",
      "yes\n",
      "yes\n",
      "yes\n",
      "yes\n",
      "yes\n",
      "yes\n",
      "yes\n",
      "yes\n",
      "yes\n",
      "yes\n",
      "yes\n",
      "yes\n",
      "yes\n",
      "yes\n",
      "yes\n",
      "yes\n",
      "yes\n",
      "yes\n",
      "yes\n",
      "yes\n",
      "yes\n",
      "yes\n",
      "yes\n",
      "yes\n",
      "yes\n",
      "yes\n",
      "yes\n",
      "yes\n",
      "yes\n",
      "yes\n",
      "yes\n",
      "yes\n",
      "yes\n",
      "yes\n",
      "yes\n",
      "yes\n",
      "yes\n",
      "yes\n",
      "yes\n",
      "yes\n",
      "yes\n",
      "yes\n",
      "yes\n",
      "yes\n",
      "yes\n",
      "yes\n",
      "yes\n",
      "yes\n",
      "yes\n",
      "yes\n",
      "yes\n",
      "yes\n",
      "yes\n",
      "yes\n",
      "yes\n",
      "yes\n",
      "yes\n",
      "yes\n",
      "yes\n",
      "yes\n",
      "yes\n",
      "yes\n",
      "yes\n",
      "yes\n",
      "yes\n",
      "yes\n",
      "yes\n",
      "yes\n",
      "yes\n",
      "yes\n",
      "yes\n",
      "yes\n",
      "yes\n",
      "yes\n",
      "yes\n",
      "yes\n",
      "yes\n",
      "yes\n",
      "yes\n",
      "yes\n",
      "yes\n",
      "yes\n",
      "yes\n",
      "yes\n",
      "yes\n",
      "yes\n",
      "yes\n",
      "yes\n",
      "yes\n",
      "yes\n",
      "yes\n",
      "yes\n",
      "yes\n",
      "yes\n",
      "yes\n",
      "yes\n",
      "yes\n",
      "yes\n",
      "yes\n",
      "yes\n",
      "yes\n",
      "yes\n",
      "yes\n",
      "yes\n",
      "yes\n",
      "yes\n",
      "yes\n",
      "yes\n",
      "yes\n",
      "yes\n",
      "yes\n",
      "yes\n",
      "yes\n",
      "yes\n",
      "yes\n",
      "yes\n",
      "yes\n",
      "yes\n",
      "yes\n",
      "yes\n",
      "yes\n",
      "yes\n",
      "yes\n",
      "yes\n",
      "yes\n",
      "yes\n",
      "yes\n",
      "yes\n",
      "yes\n",
      "yes\n",
      "yes\n",
      "yes\n",
      "yes\n",
      "yes\n",
      "yes\n",
      "yes\n",
      "yes\n",
      "yes\n",
      "yes\n",
      "yes\n",
      "yes\n",
      "yes\n",
      "yes\n",
      "yes\n",
      "yes\n",
      "yes\n",
      "yes\n",
      "yes\n",
      "yes\n",
      "yes\n",
      "yes\n",
      "yes\n",
      "yes\n",
      "yes\n",
      "yes\n",
      "yes\n",
      "yes\n",
      "yes\n",
      "yes\n",
      "yes\n",
      "yes\n",
      "yes\n",
      "yes\n",
      "yes\n",
      "yes\n",
      "yes\n",
      "yes\n",
      "yes\n",
      "yes\n",
      "yes\n",
      "yes\n",
      "yes\n",
      "yes\n",
      "yes\n",
      "yes\n",
      "yes\n",
      "yes\n",
      "yes\n",
      "yes\n",
      "yes\n",
      "yes\n",
      "yes\n",
      "yes\n",
      "yes\n",
      "yes\n",
      "yes\n",
      "yes\n",
      "yes\n",
      "yes\n",
      "yes\n",
      "yes\n",
      "yes\n",
      "yes\n",
      "yes\n",
      "yes\n",
      "yes\n",
      "yes\n",
      "yes\n",
      "yes\n",
      "yes\n",
      "yes\n",
      "yes\n",
      "yes\n",
      "yes\n",
      "yes\n",
      "yes\n",
      "yes\n",
      "yes\n",
      "yes\n",
      "yes\n",
      "yes\n",
      "yes\n",
      "yes\n",
      "yes\n",
      "yes\n",
      "yes\n",
      "yes\n",
      "yes\n",
      "yes\n",
      "yes\n",
      "yes\n",
      "yes\n",
      "yes\n",
      "yes\n",
      "yes\n",
      "yes\n",
      "yes\n",
      "yes\n",
      "yes\n",
      "yes\n",
      "yes\n",
      "yes\n",
      "yes\n",
      "yes\n",
      "yes\n",
      "yes\n",
      "yes\n",
      "yes\n",
      "yes\n",
      "yes\n",
      "yes\n",
      "yes\n",
      "yes\n",
      "yes\n",
      "yes\n",
      "yes\n",
      "yes\n",
      "yes\n",
      "yes\n",
      "yes\n",
      "yes\n",
      "yes\n",
      "yes\n",
      "yes\n",
      "yes\n",
      "yes\n",
      "yes\n",
      "yes\n",
      "yes\n",
      "yes\n",
      "yes\n",
      "yes\n",
      "yes\n",
      "yes\n",
      "yes\n",
      "yes\n",
      "yes\n",
      "yes\n",
      "yes\n",
      "yes\n",
      "yes\n",
      "yes\n",
      "yes\n",
      "yes\n",
      "yes\n",
      "yes\n",
      "yes\n",
      "yes\n",
      "yes\n",
      "yes\n",
      "yes\n",
      "yes\n",
      "yes\n",
      "yes\n",
      "yes\n",
      "yes\n",
      "yes\n",
      "yes\n",
      "yes\n",
      "yes\n",
      "yes\n",
      "yes\n"
     ]
    }
   ],
   "source": [
    "for i in range(len(mt)):\n",
    "    if mt[i]>mo[i]:\n",
    "        print('yes')"
   ]
  },
  {
   "cell_type": "markdown",
   "id": "82b262db",
   "metadata": {},
   "source": [
    "thus all values in the  obtaine marks are greater thus assumption cannot be possible"
   ]
  },
  {
   "cell_type": "markdown",
   "id": "a1515ff5",
   "metadata": {},
   "source": [
    "# Question=3"
   ]
  },
  {
   "cell_type": "code",
   "execution_count": 242,
   "id": "e1d42847",
   "metadata": {},
   "outputs": [],
   "source": [
    "df['DEGREE_STATUS']=df['DEGREE_STATUS'].replace(np.nan,'Disqualify')"
   ]
  },
  {
   "cell_type": "code",
   "execution_count": 244,
   "id": "1d6cb076",
   "metadata": {},
   "outputs": [
    {
     "data": {
      "text/plain": [
       "Current        1939\n",
       "Cancelled       221\n",
       "Transferred       8\n",
       "Not Joined        2\n",
       "Name: DEGREE_STATUS, dtype: int64"
      ]
     },
     "execution_count": 244,
     "metadata": {},
     "output_type": "execute_result"
    }
   ],
   "source": [
    "df['DEGREE_STATUS'].value_counts()"
   ]
  },
  {
   "cell_type": "code",
   "execution_count": 245,
   "id": "7be30d19",
   "metadata": {},
   "outputs": [
    {
     "data": {
      "text/plain": [
       "<AxesSubplot:>"
      ]
     },
     "execution_count": 245,
     "metadata": {},
     "output_type": "execute_result"
    },
    {
     "data": {
      "image/png": "[encoded data removed]",
      "text/plain": [
       "<Figure size 432x288 with 1 Axes>"
      ]
     },
     "metadata": {
      "needs_background": "light"
     },
     "output_type": "display_data"
    }
   ],
   "source": [
    "df['DEGREE_STATUS'].value_counts().plot(kind='bar')"
   ]
  },
  {
   "cell_type": "markdown",
   "id": "0aa7e4ae",
   "metadata": {},
   "source": [
    "# Question-5"
   ]
  },
  {
   "cell_type": "markdown",
   "id": "7626cb41",
   "metadata": {},
   "source": [
    "Firstly I take the desired columns ,'Admission_Campus','Admission_Discipline', and then group by Admission campus with admisiion dicipline in a way that against every campus ,count of total disipline is placed and store it in another column named as count"
   ]
  },
  {
   "cell_type": "code",
   "execution_count": 189,
   "id": "e28f3790",
   "metadata": {},
   "outputs": [],
   "source": [
    "Q5DF=df[['Admission_Campus','Admission_Discipline']].copy()"
   ]
  },
  {
   "cell_type": "code",
   "execution_count": 190,
   "id": "777c5279",
   "metadata": {},
   "outputs": [
    {
     "data": {
      "text/plain": [
       "(2170, 2)"
      ]
     },
     "execution_count": 190,
     "metadata": {},
     "output_type": "execute_result"
    }
   ],
   "source": [
    "Q5DF.shape"
   ]
  },
  {
   "cell_type": "code",
   "execution_count": 198,
   "id": "c435e82f",
   "metadata": {},
   "outputs": [
    {
     "data": {
      "text/html": [
       "<div>\n",
       "<style scoped>\n",
       "    .dataframe tbody tr th:only-of-type {\n",
       "        vertical-align: middle;\n",
       "    }\n",
       "\n",
       "    .dataframe tbody tr th {\n",
       "        vertical-align: top;\n",
       "    }\n",
       "\n",
       "    .dataframe thead th {\n",
       "        text-align: right;\n",
       "    }\n",
       "</style>\n",
       "<table border=\"1\" class=\"dataframe\">\n",
       "  <thead>\n",
       "    <tr style=\"text-align: right;\">\n",
       "      <th></th>\n",
       "      <th>Admission_Campus</th>\n",
       "      <th>Admission_Discipline</th>\n",
       "      <th>count</th>\n",
       "    </tr>\n",
       "  </thead>\n",
       "  <tbody>\n",
       "    <tr>\n",
       "      <th>0</th>\n",
       "      <td>CFD</td>\n",
       "      <td>BS(CS)</td>\n",
       "      <td>170</td>\n",
       "    </tr>\n",
       "    <tr>\n",
       "      <th>1</th>\n",
       "      <td>CFD</td>\n",
       "      <td>BS(SE)</td>\n",
       "      <td>52</td>\n",
       "    </tr>\n",
       "    <tr>\n",
       "      <th>2</th>\n",
       "      <td>CFD</td>\n",
       "      <td>BS(EE)</td>\n",
       "      <td>28</td>\n",
       "    </tr>\n",
       "    <tr>\n",
       "      <th>3</th>\n",
       "      <td>CFD</td>\n",
       "      <td>BBA</td>\n",
       "      <td>24</td>\n",
       "    </tr>\n",
       "    <tr>\n",
       "      <th>4</th>\n",
       "      <td>ISB</td>\n",
       "      <td>BS(CS)</td>\n",
       "      <td>320</td>\n",
       "    </tr>\n",
       "    <tr>\n",
       "      <th>5</th>\n",
       "      <td>ISB</td>\n",
       "      <td>BS(EE)</td>\n",
       "      <td>104</td>\n",
       "    </tr>\n",
       "    <tr>\n",
       "      <th>6</th>\n",
       "      <td>ISB</td>\n",
       "      <td>BS(CSDF)</td>\n",
       "      <td>53</td>\n",
       "    </tr>\n",
       "    <tr>\n",
       "      <th>7</th>\n",
       "      <td>ISB</td>\n",
       "      <td>BS(AI)</td>\n",
       "      <td>49</td>\n",
       "    </tr>\n",
       "    <tr>\n",
       "      <th>8</th>\n",
       "      <td>ISB</td>\n",
       "      <td>BS(AF)</td>\n",
       "      <td>36</td>\n",
       "    </tr>\n",
       "    <tr>\n",
       "      <th>9</th>\n",
       "      <td>ISB</td>\n",
       "      <td>BBA</td>\n",
       "      <td>35</td>\n",
       "    </tr>\n",
       "    <tr>\n",
       "      <th>10</th>\n",
       "      <td>ISB</td>\n",
       "      <td>BS(DS)</td>\n",
       "      <td>30</td>\n",
       "    </tr>\n",
       "    <tr>\n",
       "      <th>11</th>\n",
       "      <td>KHI</td>\n",
       "      <td>BS(CS)</td>\n",
       "      <td>370</td>\n",
       "    </tr>\n",
       "    <tr>\n",
       "      <th>12</th>\n",
       "      <td>KHI</td>\n",
       "      <td>BS(SE)</td>\n",
       "      <td>69</td>\n",
       "    </tr>\n",
       "    <tr>\n",
       "      <th>13</th>\n",
       "      <td>KHI</td>\n",
       "      <td>BS(EE)</td>\n",
       "      <td>58</td>\n",
       "    </tr>\n",
       "    <tr>\n",
       "      <th>14</th>\n",
       "      <td>KHI</td>\n",
       "      <td>BBA</td>\n",
       "      <td>16</td>\n",
       "    </tr>\n",
       "    <tr>\n",
       "      <th>15</th>\n",
       "      <td>LHR</td>\n",
       "      <td>BS(CS)</td>\n",
       "      <td>466</td>\n",
       "    </tr>\n",
       "    <tr>\n",
       "      <th>16</th>\n",
       "      <td>LHR</td>\n",
       "      <td>BS(EE)</td>\n",
       "      <td>118</td>\n",
       "    </tr>\n",
       "    <tr>\n",
       "      <th>17</th>\n",
       "      <td>LHR</td>\n",
       "      <td>BS(CV)</td>\n",
       "      <td>75</td>\n",
       "    </tr>\n",
       "    <tr>\n",
       "      <th>18</th>\n",
       "      <td>LHR</td>\n",
       "      <td>BBA</td>\n",
       "      <td>34</td>\n",
       "    </tr>\n",
       "    <tr>\n",
       "      <th>19</th>\n",
       "      <td>LHR</td>\n",
       "      <td>BS(AF)</td>\n",
       "      <td>25</td>\n",
       "    </tr>\n",
       "    <tr>\n",
       "      <th>20</th>\n",
       "      <td>PWR</td>\n",
       "      <td>BS(CS)</td>\n",
       "      <td>21</td>\n",
       "    </tr>\n",
       "    <tr>\n",
       "      <th>21</th>\n",
       "      <td>PWR</td>\n",
       "      <td>BS(EE)</td>\n",
       "      <td>10</td>\n",
       "    </tr>\n",
       "    <tr>\n",
       "      <th>22</th>\n",
       "      <td>PWR</td>\n",
       "      <td>BS(SE)</td>\n",
       "      <td>7</td>\n",
       "    </tr>\n",
       "  </tbody>\n",
       "</table>\n",
       "</div>"
      ],
      "text/plain": [
       "   Admission_Campus Admission_Discipline  count\n",
       "0               CFD           BS(CS)        170\n",
       "1               CFD           BS(SE)         52\n",
       "2               CFD           BS(EE)         28\n",
       "3               CFD           BBA            24\n",
       "4               ISB           BS(CS)        320\n",
       "5               ISB           BS(EE)        104\n",
       "6               ISB           BS(CSDF)       53\n",
       "7               ISB           BS(AI)         49\n",
       "8               ISB           BS(AF)         36\n",
       "9               ISB           BBA            35\n",
       "10              ISB           BS(DS)         30\n",
       "11              KHI           BS(CS)        370\n",
       "12              KHI           BS(SE)         69\n",
       "13              KHI           BS(EE)         58\n",
       "14              KHI           BBA            16\n",
       "15              LHR           BS(CS)        466\n",
       "16              LHR           BS(EE)        118\n",
       "17              LHR           BS(CV)         75\n",
       "18              LHR           BBA            34\n",
       "19              LHR           BS(AF)         25\n",
       "20              PWR           BS(CS)         21\n",
       "21              PWR           BS(EE)         10\n",
       "22              PWR           BS(SE)          7"
      ]
     },
     "execution_count": 198,
     "metadata": {},
     "output_type": "execute_result"
    }
   ],
   "source": [
    "Q5DF.groupby(['Admission_Campus']).Admission_Discipline.value_counts().reset_index(name='count')"
   ]
  },
  {
   "cell_type": "code",
   "execution_count": 219,
   "id": "2196c10e",
   "metadata": {},
   "outputs": [
    {
     "data": {
      "text/plain": [
       "<AxesSubplot:>"
      ]
     },
     "execution_count": 219,
     "metadata": {},
     "output_type": "execute_result"
    },
    {
     "data": {
      "image/png": "[encoded data removed]",
      "text/plain": [
       "<Figure size 360x360 with 1 Axes>"
      ]
     },
     "metadata": {
      "needs_background": "light"
     },
     "output_type": "display_data"
    }
   ],
   "source": [
    "Q5DF=df[(df['Admission_Campus']=='PWR') & (df['DEGREE_STATUS']=='Current')]\n",
    "Q5DF=Q5DF['Admission_Discipline'].value_counts()\n",
    "Q5DF.plot(kind='bar',figsize=(5,5))"
   ]
  },
  {
   "cell_type": "code",
   "execution_count": 220,
   "id": "55e8d2a1",
   "metadata": {},
   "outputs": [
    {
     "data": {
      "text/plain": [
       "<AxesSubplot:>"
      ]
     },
     "execution_count": 220,
     "metadata": {},
     "output_type": "execute_result"
    },
    {
     "data": {
      "image/png": "[encoded data removed]",
      "text/plain": [
       "<Figure size 360x360 with 1 Axes>"
      ]
     },
     "metadata": {
      "needs_background": "light"
     },
     "output_type": "display_data"
    }
   ],
   "source": [
    "Q5DF=df[(df['Admission_Campus']=='ISB') & (df['DEGREE_STATUS']=='Current')]\n",
    "Q5DF=Q5DF['Admission_Discipline'].value_counts()\n",
    "Q5DF.plot(kind='bar',figsize=(5,5))"
   ]
  },
  {
   "cell_type": "code",
   "execution_count": 221,
   "id": "eba2b2fa",
   "metadata": {},
   "outputs": [
    {
     "data": {
      "text/plain": [
       "<AxesSubplot:>"
      ]
     },
     "execution_count": 221,
     "metadata": {},
     "output_type": "execute_result"
    },
    {
     "data": {
      "image/png": "[encoded data removed]",
      "text/plain": [
       "<Figure size 360x360 with 1 Axes>"
      ]
     },
     "metadata": {
      "needs_background": "light"
     },
     "output_type": "display_data"
    }
   ],
   "source": [
    "Q5DF=df[(df['Admission_Campus']=='LHR') & (df['DEGREE_STATUS']=='Current')]\n",
    "Q5DF=Q5DF['Admission_Discipline'].value_counts()\n",
    "Q5DF.plot(kind='bar',figsize=(5,5))"
   ]
  },
  {
   "cell_type": "code",
   "execution_count": 222,
   "id": "def4cd9b",
   "metadata": {},
   "outputs": [
    {
     "data": {
      "text/plain": [
       "<AxesSubplot:>"
      ]
     },
     "execution_count": 222,
     "metadata": {},
     "output_type": "execute_result"
    },
    {
     "data": {
      "image/png": "[encoded data removed]",
      "text/plain": [
       "<Figure size 360x360 with 1 Axes>"
      ]
     },
     "metadata": {
      "needs_background": "light"
     },
     "output_type": "display_data"
    }
   ],
   "source": [
    "Q5DF=df[(df['Admission_Campus']=='CFD') & (df['DEGREE_STATUS']=='Current')]\n",
    "Q5DF=Q5DF['Admission_Discipline'].value_counts()\n",
    "Q5DF.plot(kind='bar',figsize=(5,5))"
   ]
  },
  {
   "cell_type": "code",
   "execution_count": 223,
   "id": "4b8fada1",
   "metadata": {},
   "outputs": [
    {
     "data": {
      "text/plain": [
       "<AxesSubplot:>"
      ]
     },
     "execution_count": 223,
     "metadata": {},
     "output_type": "execute_result"
    },
    {
     "data": {
      "image/png": "[encoded data removed]",
      "text/plain": [
       "<Figure size 360x360 with 1 Axes>"
      ]
     },
     "metadata": {
      "needs_background": "light"
     },
     "output_type": "display_data"
    }
   ],
   "source": [
    "Q5DF=df[(df['Admission_Campus']=='KHI') & (df['DEGREE_STATUS']=='Current')]\n",
    "Q5DF=Q5DF['Admission_Discipline'].value_counts()\n",
    "Q5DF.plot(kind='bar',figsize=(5,5))"
   ]
  },
  {
   "cell_type": "markdown",
   "id": "071d9171",
   "metadata": {},
   "source": [
    "# Question-6"
   ]
  },
  {
   "cell_type": "markdown",
   "id": "133eb5e3",
   "metadata": {},
   "source": [
    "First I seprate the desired columns  , Matric result which I calcuated first. nd Nu test marks for BBA and Nu test Marks for BS and uses the pandas buid in function to plot a correlation between the columns and then using matshow draw correlation matrix "
   ]
  },
  {
   "cell_type": "code",
   "execution_count": 204,
   "id": "ac589d47",
   "metadata": {},
   "outputs": [],
   "source": [
    "Q6DF=df[['Matric_Result','NU_Test_Marks_BBA','NU_Test_Marks_BS']].copy()"
   ]
  },
  {
   "cell_type": "code",
   "execution_count": 209,
   "id": "6a5e70e5",
   "metadata": {},
   "outputs": [
    {
     "data": {
      "text/html": [
       "<div>\n",
       "<style scoped>\n",
       "    .dataframe tbody tr th:only-of-type {\n",
       "        vertical-align: middle;\n",
       "    }\n",
       "\n",
       "    .dataframe tbody tr th {\n",
       "        vertical-align: top;\n",
       "    }\n",
       "\n",
       "    .dataframe thead th {\n",
       "        text-align: right;\n",
       "    }\n",
       "</style>\n",
       "<table border=\"1\" class=\"dataframe\">\n",
       "  <thead>\n",
       "    <tr style=\"text-align: right;\">\n",
       "      <th></th>\n",
       "      <th>Matric_Result</th>\n",
       "      <th>NU_Test_Marks_BBA</th>\n",
       "      <th>NU_Test_Marks_BS</th>\n",
       "    </tr>\n",
       "  </thead>\n",
       "  <tbody>\n",
       "    <tr>\n",
       "      <th>Matric_Result</th>\n",
       "      <td>1.000000</td>\n",
       "      <td>0.274508</td>\n",
       "      <td>0.370873</td>\n",
       "    </tr>\n",
       "    <tr>\n",
       "      <th>NU_Test_Marks_BBA</th>\n",
       "      <td>0.274508</td>\n",
       "      <td>1.000000</td>\n",
       "      <td>0.640952</td>\n",
       "    </tr>\n",
       "    <tr>\n",
       "      <th>NU_Test_Marks_BS</th>\n",
       "      <td>0.370873</td>\n",
       "      <td>0.640952</td>\n",
       "      <td>1.000000</td>\n",
       "    </tr>\n",
       "  </tbody>\n",
       "</table>\n",
       "</div>"
      ],
      "text/plain": [
       "                   Matric_Result  NU_Test_Marks_BBA  NU_Test_Marks_BS\n",
       "Matric_Result           1.000000           0.274508          0.370873\n",
       "NU_Test_Marks_BBA       0.274508           1.000000          0.640952\n",
       "NU_Test_Marks_BS        0.370873           0.640952          1.000000"
      ]
     },
     "execution_count": 209,
     "metadata": {},
     "output_type": "execute_result"
    }
   ],
   "source": [
    "Q6DF.corr()"
   ]
  },
  {
   "cell_type": "code",
   "execution_count": 211,
   "id": "5b1aa4b5",
   "metadata": {},
   "outputs": [
    {
     "data": {
      "image/png": "[encoded data removed]",
      "text/plain": [
       "<Figure size 288x288 with 1 Axes>"
      ]
     },
     "metadata": {
      "needs_background": "light"
     },
     "output_type": "display_data"
    }
   ],
   "source": [
    "plt.matshow(Q6DF.corr())\n",
    "plt.show()"
   ]
  },
  {
   "cell_type": "markdown",
   "id": "6b6eac32",
   "metadata": {},
   "source": [
    "# Question-7"
   ]
  },
  {
   "cell_type": "markdown",
   "id": "245844bb",
   "metadata": {},
   "source": [
    "In this I have simply get the desired two columns DEGREE_STATUS','Intermediate_Board, and check in the DEGREE_STATUS column that degree is current and then simply get the value count"
   ]
  },
  {
   "cell_type": "code",
   "execution_count": 224,
   "id": "dfd0074b",
   "metadata": {},
   "outputs": [],
   "source": [
    "Q7DF=df[['DEGREE_STATUS','Intermediate_Board']].copy()"
   ]
  },
  {
   "cell_type": "code",
   "execution_count": 227,
   "id": "b07cd9ab",
   "metadata": {},
   "outputs": [],
   "source": [
    "Q7DF=Q7DF[(Q7DF['DEGREE_STATUS']=='Current')]"
   ]
  },
  {
   "cell_type": "code",
   "execution_count": 230,
   "id": "bba5fe0b",
   "metadata": {},
   "outputs": [],
   "source": [
    "ls=Q7DF['Intermediate_Board'].value_counts()"
   ]
  },
  {
   "cell_type": "code",
   "execution_count": 231,
   "id": "181e3455",
   "metadata": {},
   "outputs": [
    {
     "data": {
      "text/plain": [
       "<AxesSubplot:>"
      ]
     },
     "execution_count": 231,
     "metadata": {},
     "output_type": "execute_result"
    },
    {
     "data": {
      "image/png": "[encoded data removed]",
      "text/plain": [
       "<Figure size 1152x432 with 1 Axes>"
      ]
     },
     "metadata": {
      "needs_background": "light"
     },
     "output_type": "display_data"
    }
   ],
   "source": [
    "ls.plot(kind='bar',figsize=(16,6))"
   ]
  },
  {
   "cell_type": "code",
   "execution_count": null,
   "id": "6a6c3fb8",
   "metadata": {},
   "outputs": [],
   "source": [
    "# Question-7"
   ]
  }
 ],
 "metadata": {
  "kernelspec": {
   "display_name": "Python 3",
   "language": "python",
   "name": "python3"
  },
  "language_info": {
   "codemirror_mode": {
    "name": "ipython",
    "version": 3
   },
   "file_extension": ".py",
   "mimetype": "text/x-python",
   "name": "python",
   "nbconvert_exporter": "python",
   "pygments_lexer": "ipython3",
   "version": "3.8.8"
  }
 },
 "nbformat": 4,
 "nbformat_minor": 5
}
